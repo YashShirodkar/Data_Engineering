{
 "cells": [
  {
   "cell_type": "code",
   "execution_count": 3,
   "metadata": {
    "collapsed": true
   },
   "outputs": [
    {
     "name": "stdout",
     "output_type": "stream",
     "text": [
      "Collecting lux-api\n",
      "  Downloading lux-api-0.3.0.tar.gz (111 kB)\n",
      "\u001b[K     |████████████████████████████████| 111 kB 1.4 MB/s eta 0:00:01\n",
      "\u001b[?25h  Installing build dependencies ... \u001b[?25ldone\n",
      "\u001b[?25h  Getting requirements to build wheel ... \u001b[?25ldone\n",
      "\u001b[?25h    Preparing wheel metadata ... \u001b[?25ldone\n",
      "\u001b[?25hCollecting iso3166\n",
      "  Using cached iso3166-1.0.1-py2.py3-none-any.whl (8.2 kB)\n",
      "Collecting pandas>=1.2.0\n",
      "  Downloading pandas-1.2.4-cp38-cp38-macosx_10_9_x86_64.whl (10.5 MB)\n",
      "\u001b[K     |████████████████████████████████| 10.5 MB 1.1 MB/s eta 0:00:01\n",
      "\u001b[?25hRequirement already satisfied: matplotlib>=3.0.0 in /Users/yashshirodkar/opt/anaconda3/lib/python3.8/site-packages (from lux-api) (3.3.2)\n",
      "Collecting lux-widget>=0.1.4\n",
      "  Downloading lux-widget-0.1.5.tar.gz (2.6 MB)\n",
      "\u001b[K     |████████████████████████████████| 2.6 MB 1.8 MB/s eta 0:00:01\n",
      "\u001b[?25hCollecting us\n",
      "  Downloading us-2.0.2.tar.gz (14 kB)\n",
      "Requirement already satisfied: scipy>=1.3.3 in /Users/yashshirodkar/opt/anaconda3/lib/python3.8/site-packages (from lux-api) (1.5.2)\n",
      "Requirement already satisfied: scikit-learn>=0.22 in /Users/yashshirodkar/opt/anaconda3/lib/python3.8/site-packages (from lux-api) (0.23.2)\n",
      "Collecting altair>=4.0.0\n",
      "  Downloading altair-4.1.0-py3-none-any.whl (727 kB)\n",
      "\u001b[K     |████████████████████████████████| 727 kB 2.5 MB/s eta 0:00:01\n",
      "\u001b[?25hRequirement already satisfied: numpy>=1.16.5 in /Users/yashshirodkar/opt/anaconda3/lib/python3.8/site-packages (from lux-api) (1.19.2)\n",
      "Requirement already satisfied: python-dateutil>=2.7.3 in /Users/yashshirodkar/opt/anaconda3/lib/python3.8/site-packages (from pandas>=1.2.0->lux-api) (2.8.1)\n",
      "Requirement already satisfied: pytz>=2017.3 in /Users/yashshirodkar/opt/anaconda3/lib/python3.8/site-packages (from pandas>=1.2.0->lux-api) (2020.1)\n",
      "Requirement already satisfied: pillow>=6.2.0 in /Users/yashshirodkar/opt/anaconda3/lib/python3.8/site-packages (from matplotlib>=3.0.0->lux-api) (8.0.1)\n",
      "Requirement already satisfied: certifi>=2020.06.20 in /Users/yashshirodkar/opt/anaconda3/lib/python3.8/site-packages (from matplotlib>=3.0.0->lux-api) (2020.6.20)\n",
      "Requirement already satisfied: cycler>=0.10 in /Users/yashshirodkar/opt/anaconda3/lib/python3.8/site-packages (from matplotlib>=3.0.0->lux-api) (0.10.0)\n",
      "Requirement already satisfied: kiwisolver>=1.0.1 in /Users/yashshirodkar/opt/anaconda3/lib/python3.8/site-packages (from matplotlib>=3.0.0->lux-api) (1.3.0)\n",
      "Requirement already satisfied: pyparsing!=2.0.4,!=2.1.2,!=2.1.6,>=2.0.3 in /Users/yashshirodkar/opt/anaconda3/lib/python3.8/site-packages (from matplotlib>=3.0.0->lux-api) (2.4.7)\n",
      "Requirement already satisfied: notebook>=4.0.0 in /Users/yashshirodkar/opt/anaconda3/lib/python3.8/site-packages (from lux-widget>=0.1.4->lux-api) (6.1.4)\n",
      "Requirement already satisfied: ipywidgets>=7.5.0 in /Users/yashshirodkar/opt/anaconda3/lib/python3.8/site-packages (from lux-widget>=0.1.4->lux-api) (7.5.1)\n",
      "Collecting jellyfish==0.6.1\n",
      "  Downloading jellyfish-0.6.1.tar.gz (132 kB)\n",
      "\u001b[K     |████████████████████████████████| 132 kB 1.1 MB/s eta 0:00:01\n",
      "\u001b[?25hRequirement already satisfied: threadpoolctl>=2.0.0 in /Users/yashshirodkar/opt/anaconda3/lib/python3.8/site-packages (from scikit-learn>=0.22->lux-api) (2.1.0)\n",
      "Requirement already satisfied: joblib>=0.11 in /Users/yashshirodkar/opt/anaconda3/lib/python3.8/site-packages (from scikit-learn>=0.22->lux-api) (0.17.0)\n",
      "Requirement already satisfied: jinja2 in /Users/yashshirodkar/opt/anaconda3/lib/python3.8/site-packages (from altair>=4.0.0->lux-api) (2.11.2)\n",
      "Requirement already satisfied: jsonschema in /Users/yashshirodkar/opt/anaconda3/lib/python3.8/site-packages (from altair>=4.0.0->lux-api) (3.2.0)\n",
      "Requirement already satisfied: entrypoints in /Users/yashshirodkar/opt/anaconda3/lib/python3.8/site-packages (from altair>=4.0.0->lux-api) (0.3)\n",
      "Requirement already satisfied: toolz in /Users/yashshirodkar/opt/anaconda3/lib/python3.8/site-packages (from altair>=4.0.0->lux-api) (0.11.1)\n",
      "Requirement already satisfied: six>=1.5 in /Users/yashshirodkar/opt/anaconda3/lib/python3.8/site-packages (from python-dateutil>=2.7.3->pandas>=1.2.0->lux-api) (1.15.0)\n",
      "Requirement already satisfied: ipykernel in /Users/yashshirodkar/opt/anaconda3/lib/python3.8/site-packages (from notebook>=4.0.0->lux-widget>=0.1.4->lux-api) (5.3.4)\n",
      "Requirement already satisfied: terminado>=0.8.3 in /Users/yashshirodkar/opt/anaconda3/lib/python3.8/site-packages (from notebook>=4.0.0->lux-widget>=0.1.4->lux-api) (0.9.1)\n",
      "Requirement already satisfied: ipython-genutils in /Users/yashshirodkar/opt/anaconda3/lib/python3.8/site-packages (from notebook>=4.0.0->lux-widget>=0.1.4->lux-api) (0.2.0)\n",
      "Requirement already satisfied: traitlets>=4.2.1 in /Users/yashshirodkar/opt/anaconda3/lib/python3.8/site-packages (from notebook>=4.0.0->lux-widget>=0.1.4->lux-api) (5.0.5)\n",
      "Requirement already satisfied: tornado>=5.0 in /Users/yashshirodkar/opt/anaconda3/lib/python3.8/site-packages (from notebook>=4.0.0->lux-widget>=0.1.4->lux-api) (6.0.4)\n",
      "Requirement already satisfied: jupyter-core>=4.6.1 in /Users/yashshirodkar/opt/anaconda3/lib/python3.8/site-packages (from notebook>=4.0.0->lux-widget>=0.1.4->lux-api) (4.6.3)\n",
      "Requirement already satisfied: pyzmq>=17 in /Users/yashshirodkar/opt/anaconda3/lib/python3.8/site-packages (from notebook>=4.0.0->lux-widget>=0.1.4->lux-api) (19.0.2)\n",
      "Requirement already satisfied: Send2Trash in /Users/yashshirodkar/opt/anaconda3/lib/python3.8/site-packages (from notebook>=4.0.0->lux-widget>=0.1.4->lux-api) (1.5.0)\n",
      "Requirement already satisfied: argon2-cffi in /Users/yashshirodkar/opt/anaconda3/lib/python3.8/site-packages (from notebook>=4.0.0->lux-widget>=0.1.4->lux-api) (20.1.0)\n",
      "Requirement already satisfied: jupyter-client>=5.3.4 in /Users/yashshirodkar/opt/anaconda3/lib/python3.8/site-packages (from notebook>=4.0.0->lux-widget>=0.1.4->lux-api) (6.1.7)\n",
      "Requirement already satisfied: nbformat in /Users/yashshirodkar/opt/anaconda3/lib/python3.8/site-packages (from notebook>=4.0.0->lux-widget>=0.1.4->lux-api) (5.0.8)\n",
      "Requirement already satisfied: prometheus-client in /Users/yashshirodkar/opt/anaconda3/lib/python3.8/site-packages (from notebook>=4.0.0->lux-widget>=0.1.4->lux-api) (0.8.0)\n",
      "Requirement already satisfied: nbconvert in /Users/yashshirodkar/opt/anaconda3/lib/python3.8/site-packages (from notebook>=4.0.0->lux-widget>=0.1.4->lux-api) (6.0.7)\n",
      "Requirement already satisfied: widgetsnbextension~=3.5.0 in /Users/yashshirodkar/opt/anaconda3/lib/python3.8/site-packages (from ipywidgets>=7.5.0->lux-widget>=0.1.4->lux-api) (3.5.1)\n",
      "Requirement already satisfied: ipython>=4.0.0; python_version >= \"3.3\" in /Users/yashshirodkar/opt/anaconda3/lib/python3.8/site-packages (from ipywidgets>=7.5.0->lux-widget>=0.1.4->lux-api) (7.19.0)\n",
      "Requirement already satisfied: MarkupSafe>=0.23 in /Users/yashshirodkar/opt/anaconda3/lib/python3.8/site-packages (from jinja2->altair>=4.0.0->lux-api) (1.1.1)\n",
      "Requirement already satisfied: attrs>=17.4.0 in /Users/yashshirodkar/opt/anaconda3/lib/python3.8/site-packages (from jsonschema->altair>=4.0.0->lux-api) (20.3.0)\n",
      "Requirement already satisfied: setuptools in /Users/yashshirodkar/opt/anaconda3/lib/python3.8/site-packages (from jsonschema->altair>=4.0.0->lux-api) (50.3.1.post20201107)\n",
      "Requirement already satisfied: pyrsistent>=0.14.0 in /Users/yashshirodkar/opt/anaconda3/lib/python3.8/site-packages (from jsonschema->altair>=4.0.0->lux-api) (0.17.3)\n",
      "Requirement already satisfied: appnope; platform_system == \"Darwin\" in /Users/yashshirodkar/opt/anaconda3/lib/python3.8/site-packages (from ipykernel->notebook>=4.0.0->lux-widget>=0.1.4->lux-api) (0.1.0)\n",
      "Requirement already satisfied: ptyprocess in /Users/yashshirodkar/opt/anaconda3/lib/python3.8/site-packages (from terminado>=0.8.3->notebook>=4.0.0->lux-widget>=0.1.4->lux-api) (0.6.0)\n",
      "Requirement already satisfied: cffi>=1.0.0 in /Users/yashshirodkar/opt/anaconda3/lib/python3.8/site-packages (from argon2-cffi->notebook>=4.0.0->lux-widget>=0.1.4->lux-api) (1.14.3)\n",
      "Requirement already satisfied: pygments>=2.4.1 in /Users/yashshirodkar/opt/anaconda3/lib/python3.8/site-packages (from nbconvert->notebook>=4.0.0->lux-widget>=0.1.4->lux-api) (2.7.2)\n",
      "Requirement already satisfied: testpath in /Users/yashshirodkar/opt/anaconda3/lib/python3.8/site-packages (from nbconvert->notebook>=4.0.0->lux-widget>=0.1.4->lux-api) (0.4.4)\n",
      "Requirement already satisfied: pandocfilters>=1.4.1 in /Users/yashshirodkar/opt/anaconda3/lib/python3.8/site-packages (from nbconvert->notebook>=4.0.0->lux-widget>=0.1.4->lux-api) (1.4.3)\n",
      "Requirement already satisfied: mistune<2,>=0.8.1 in /Users/yashshirodkar/opt/anaconda3/lib/python3.8/site-packages (from nbconvert->notebook>=4.0.0->lux-widget>=0.1.4->lux-api) (0.8.4)\n",
      "Requirement already satisfied: bleach in /Users/yashshirodkar/opt/anaconda3/lib/python3.8/site-packages (from nbconvert->notebook>=4.0.0->lux-widget>=0.1.4->lux-api) (3.2.1)\n",
      "Requirement already satisfied: nbclient<0.6.0,>=0.5.0 in /Users/yashshirodkar/opt/anaconda3/lib/python3.8/site-packages (from nbconvert->notebook>=4.0.0->lux-widget>=0.1.4->lux-api) (0.5.1)\n",
      "Requirement already satisfied: defusedxml in /Users/yashshirodkar/opt/anaconda3/lib/python3.8/site-packages (from nbconvert->notebook>=4.0.0->lux-widget>=0.1.4->lux-api) (0.6.0)\n",
      "Requirement already satisfied: jupyterlab-pygments in /Users/yashshirodkar/opt/anaconda3/lib/python3.8/site-packages (from nbconvert->notebook>=4.0.0->lux-widget>=0.1.4->lux-api) (0.1.2)\n",
      "Requirement already satisfied: prompt-toolkit!=3.0.0,!=3.0.1,<3.1.0,>=2.0.0 in /Users/yashshirodkar/opt/anaconda3/lib/python3.8/site-packages (from ipython>=4.0.0; python_version >= \"3.3\"->ipywidgets>=7.5.0->lux-widget>=0.1.4->lux-api) (3.0.8)\n",
      "Requirement already satisfied: pickleshare in /Users/yashshirodkar/opt/anaconda3/lib/python3.8/site-packages (from ipython>=4.0.0; python_version >= \"3.3\"->ipywidgets>=7.5.0->lux-widget>=0.1.4->lux-api) (0.7.5)\n",
      "Requirement already satisfied: decorator in /Users/yashshirodkar/opt/anaconda3/lib/python3.8/site-packages (from ipython>=4.0.0; python_version >= \"3.3\"->ipywidgets>=7.5.0->lux-widget>=0.1.4->lux-api) (4.4.2)\n",
      "Requirement already satisfied: pexpect>4.3; sys_platform != \"win32\" in /Users/yashshirodkar/opt/anaconda3/lib/python3.8/site-packages (from ipython>=4.0.0; python_version >= \"3.3\"->ipywidgets>=7.5.0->lux-widget>=0.1.4->lux-api) (4.8.0)\n",
      "Requirement already satisfied: jedi>=0.10 in /Users/yashshirodkar/opt/anaconda3/lib/python3.8/site-packages (from ipython>=4.0.0; python_version >= \"3.3\"->ipywidgets>=7.5.0->lux-widget>=0.1.4->lux-api) (0.17.1)\n",
      "Requirement already satisfied: backcall in /Users/yashshirodkar/opt/anaconda3/lib/python3.8/site-packages (from ipython>=4.0.0; python_version >= \"3.3\"->ipywidgets>=7.5.0->lux-widget>=0.1.4->lux-api) (0.2.0)\n",
      "Requirement already satisfied: pycparser in /Users/yashshirodkar/opt/anaconda3/lib/python3.8/site-packages (from cffi>=1.0.0->argon2-cffi->notebook>=4.0.0->lux-widget>=0.1.4->lux-api) (2.20)\n",
      "Requirement already satisfied: webencodings in /Users/yashshirodkar/opt/anaconda3/lib/python3.8/site-packages (from bleach->nbconvert->notebook>=4.0.0->lux-widget>=0.1.4->lux-api) (0.5.1)\n",
      "Requirement already satisfied: packaging in /Users/yashshirodkar/opt/anaconda3/lib/python3.8/site-packages (from bleach->nbconvert->notebook>=4.0.0->lux-widget>=0.1.4->lux-api) (20.4)\n",
      "Requirement already satisfied: async-generator in /Users/yashshirodkar/opt/anaconda3/lib/python3.8/site-packages (from nbclient<0.6.0,>=0.5.0->nbconvert->notebook>=4.0.0->lux-widget>=0.1.4->lux-api) (1.10)\n",
      "Requirement already satisfied: nest-asyncio in /Users/yashshirodkar/opt/anaconda3/lib/python3.8/site-packages (from nbclient<0.6.0,>=0.5.0->nbconvert->notebook>=4.0.0->lux-widget>=0.1.4->lux-api) (1.4.2)\n",
      "Requirement already satisfied: wcwidth in /Users/yashshirodkar/opt/anaconda3/lib/python3.8/site-packages (from prompt-toolkit!=3.0.0,!=3.0.1,<3.1.0,>=2.0.0->ipython>=4.0.0; python_version >= \"3.3\"->ipywidgets>=7.5.0->lux-widget>=0.1.4->lux-api) (0.2.5)\n",
      "Requirement already satisfied: parso<0.8.0,>=0.7.0 in /Users/yashshirodkar/opt/anaconda3/lib/python3.8/site-packages (from jedi>=0.10->ipython>=4.0.0; python_version >= \"3.3\"->ipywidgets>=7.5.0->lux-widget>=0.1.4->lux-api) (0.7.0)\n",
      "Building wheels for collected packages: lux-api, lux-widget, us, jellyfish\n",
      "  Building wheel for lux-api (PEP 517) ... \u001b[?25ldone\n",
      "\u001b[?25h  Created wheel for lux-api: filename=lux_api-0.3.0-py3-none-any.whl size=165208 sha256=7c4e8eb0aae254a08ba1bf31199b414cedaa4dff501bf440695b22b569f4460b\n",
      "  Stored in directory: /Users/yashshirodkar/Library/Caches/pip/wheels/f9/4a/05/010f0dcec1469880294b2c08c6c2b1fc77901889119a09ef37\n",
      "  Building wheel for lux-widget (setup.py) ... \u001b[?25ldone\n",
      "\u001b[?25h  Created wheel for lux-widget: filename=lux_widget-0.1.5-py3-none-any.whl size=2631909 sha256=17895047b6fedeb2f4e0e5fec065307ad1ba66bf7645019882e91931d54021d7\n",
      "  Stored in directory: /Users/yashshirodkar/Library/Caches/pip/wheels/06/e7/24/869c4bdff0ff4e0ed0633c386aec2d78622569cdb4dc9a2a8b\n",
      "  Building wheel for us (setup.py) ... \u001b[?25ldone\n",
      "\u001b[?25h  Created wheel for us: filename=us-2.0.2-py3-none-any.whl size=11929 sha256=d3f7593e767939ba24af4ea9490cff9d2888514d68a25821c9c28b7a37de4779\n",
      "  Stored in directory: /Users/yashshirodkar/Library/Caches/pip/wheels/07/4c/fa/a65ed0f9c00360e785327fc370eba55ca575cc3508ab13ed8e\n",
      "  Building wheel for jellyfish (setup.py) ... \u001b[?25ldone\n",
      "\u001b[?25h  Created wheel for jellyfish: filename=jellyfish-0.6.1-cp38-cp38-macosx_10_9_x86_64.whl size=23564 sha256=0dcca799892c5686c2ced2af6808dd4b221f90b9174af3cdf81d1843cbd9dc42\n",
      "  Stored in directory: /Users/yashshirodkar/Library/Caches/pip/wheels/aa/a9/a6/359d736dbeda356e6ab8a7ff70a3db636cefe91df7d09f63dc\n",
      "Successfully built lux-api lux-widget us jellyfish\n",
      "Installing collected packages: iso3166, pandas, lux-widget, jellyfish, us, altair, lux-api\n",
      "  Attempting uninstall: pandas\n",
      "    Found existing installation: pandas 1.1.3\n",
      "    Uninstalling pandas-1.1.3:\n",
      "      Successfully uninstalled pandas-1.1.3\n",
      "Successfully installed altair-4.1.0 iso3166-1.0.1 jellyfish-0.6.1 lux-api-0.3.0 lux-widget-0.1.5 pandas-1.2.4 us-2.0.2\n",
      "Note: you may need to restart the kernel to use updated packages.\n"
     ]
    }
   ],
   "source": [
    "pip install lux-api\n",
    "\n",
    "# To activate the Jupyter notebook extension:\n",
    "# jupyter nbextension install --py luxwidget\n",
    "# jupyter nbextension enable --py luxwidget"
   ]
  },
  {
   "cell_type": "code",
   "execution_count": 1,
   "metadata": {},
   "outputs": [],
   "source": [
    "import lux\n",
    "import pandas as pd"
   ]
  },
  {
   "cell_type": "code",
   "execution_count": 2,
   "metadata": {},
   "outputs": [
    {
     "name": "stderr",
     "output_type": "stream",
     "text": [
      "/Users/yashshirodkar/opt/anaconda3/lib/python3.8/site-packages/lux/executor/PandasExecutor.py:408: UserWarning:\n",
      "Lux detects that the attribute 'DATE_KEY' may be temporal.\n",
      "To display visualizations for these attributes accurately, please convert temporal attributes to Pandas Datetime objects using the pd.to_datetime function and provide a 'format' parameter to specify the datetime format of the attribute.\n",
      "For example, you can convert a year-only attribute (e.g., 1998, 1971, 1982) to Datetime type by specifying the `format` as '%Y'.\n",
      "\n",
      "Here is a starter template that you can use for converting the temporal fields:\n",
      "\tdf['DATE_KEY'] = pd.to_datetime(df['DATE_KEY'], format='<replace-with-datetime-format>')\n",
      "\n",
      "See more at: https://pandas.pydata.org/pandas-docs/stable/reference/api/pandas.to_datetime.html\n",
      "If DATE_KEY is not a temporal attribute, please use override Lux's automatically detected type:\n",
      "\tdf.set_data_type({'DATE_KEY':'quantitative'})\n"
     ]
    },
    {
     "data": {
      "application/vnd.jupyter.widget-view+json": {
       "model_id": "c9a52e30d04147ab9efc2876143354f0",
       "version_major": 2,
       "version_minor": 0
      },
      "text/plain": [
       "Button(description='Toggle Pandas/Lux', layout=Layout(top='5px', width='140px'), style=ButtonStyle())"
      ]
     },
     "metadata": {},
     "output_type": "display_data"
    },
    {
     "data": {
      "application/vnd.jupyter.widget-view+json": {
       "model_id": "f7f7c02ae2744854a4f132e91dc583b3",
       "version_major": 2,
       "version_minor": 0
      },
      "text/plain": [
       "Output()"
      ]
     },
     "metadata": {},
     "output_type": "display_data"
    }
   ],
   "source": [
    "df = pd.read_csv(\"txn.csv\")\n",
    "df"
   ]
  },
  {
   "cell_type": "code",
   "execution_count": null,
   "metadata": {},
   "outputs": [],
   "source": []
  }
 ],
 "metadata": {
  "kernelspec": {
   "display_name": "Python 3",
   "language": "python",
   "name": "python3"
  },
  "language_info": {
   "codemirror_mode": {
    "name": "ipython",
    "version": 3
   },
   "file_extension": ".py",
   "mimetype": "text/x-python",
   "name": "python",
   "nbconvert_exporter": "python",
   "pygments_lexer": "ipython3",
   "version": "3.8.5"
  }
 },
 "nbformat": 4,
 "nbformat_minor": 4
}
