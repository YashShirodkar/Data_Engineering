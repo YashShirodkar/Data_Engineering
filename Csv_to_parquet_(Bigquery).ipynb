{
  "nbformat": 4,
  "nbformat_minor": 0,
  "metadata": {
    "colab": {
      "name": "Txn_parquet_all.ipynb",
      "provenance": [],
      "collapsed_sections": []
    },
    "kernelspec": {
      "name": "python3",
      "display_name": "Python 3"
    },
    "language_info": {
      "name": "python"
    }
  },
  "cells": [
    {
      "cell_type": "code",
      "metadata": {
        "colab": {
          "base_uri": "https://localhost:8080/"
        },
        "id": "tBDEiMfKIO8g",
        "outputId": "0b148f5c-78bc-46ba-e33e-6c2407c09798"
      },
      "source": [
        "pip install pyspark"
      ],
      "execution_count": null,
      "outputs": [
        {
          "output_type": "stream",
          "text": [
            "Collecting pyspark\n",
            "\u001b[?25l  Downloading https://files.pythonhosted.org/packages/45/b0/9d6860891ab14a39d4bddf80ba26ce51c2f9dc4805e5c6978ac0472c120a/pyspark-3.1.1.tar.gz (212.3MB)\n",
            "\u001b[K     |████████████████████████████████| 212.3MB 71kB/s \n",
            "\u001b[?25hCollecting py4j==0.10.9\n",
            "\u001b[?25l  Downloading https://files.pythonhosted.org/packages/9e/b6/6a4fb90cd235dc8e265a6a2067f2a2c99f0d91787f06aca4bcf7c23f3f80/py4j-0.10.9-py2.py3-none-any.whl (198kB)\n",
            "\u001b[K     |████████████████████████████████| 204kB 49.9MB/s \n",
            "\u001b[?25hBuilding wheels for collected packages: pyspark\n",
            "  Building wheel for pyspark (setup.py) ... \u001b[?25l\u001b[?25hdone\n",
            "  Created wheel for pyspark: filename=pyspark-3.1.1-py2.py3-none-any.whl size=212767604 sha256=045c5063d59743a567c549d1ba44fc521c730e736e792fc2d6dc4aa3a205b381\n",
            "  Stored in directory: /root/.cache/pip/wheels/0b/90/c0/01de724414ef122bd05f056541fb6a0ecf47c7ca655f8b3c0f\n",
            "Successfully built pyspark\n",
            "Installing collected packages: py4j, pyspark\n",
            "Successfully installed py4j-0.10.9 pyspark-3.1.1\n"
          ],
          "name": "stdout"
        }
      ]
    },
    {
      "cell_type": "code",
      "metadata": {
        "colab": {
          "base_uri": "https://localhost:8080/"
        },
        "id": "ca88jS_iIUc8",
        "outputId": "b1d8c1bd-4aef-4f2d-c5f9-768df67d1f98"
      },
      "source": [
        "from google.colab import drive\n",
        "\n",
        "# This will prompt for authorization.\n",
        "drive.mount('/content/drive')"
      ],
      "execution_count": null,
      "outputs": [
        {
          "output_type": "stream",
          "text": [
            "Mounted at /content/drive\n"
          ],
          "name": "stdout"
        }
      ]
    },
    {
      "cell_type": "code",
      "metadata": {
        "id": "ozMU7FYeIYO0"
      },
      "source": [
        "Jan_July = !ls \"/content/drive/My Drive/Decadata/Jan_July\""
      ],
      "execution_count": null,
      "outputs": []
    },
    {
      "cell_type": "code",
      "metadata": {
        "colab": {
          "base_uri": "https://localhost:8080/"
        },
        "id": "GdLvBAFlIgvl",
        "outputId": "35f9ec7b-6ac8-44c7-ed70-1296edd15642"
      },
      "source": [
        "for i in Jan_July:\n",
        "  print (i)"
      ],
      "execution_count": null,
      "outputs": [
        {
          "output_type": "stream",
          "text": [
            "transaction_2020_01_01-05_transaction_2020_01_01-05.csv\n",
            "transaction_2020_01_06-10_transaction_2020_01_06-10.csv\n",
            "transaction_2020_01_11-15_transaction_2020_01_11-15.csv\n",
            "transaction_2020_01_16-20_transaction_2020_01_16-20.csv\n",
            "transaction_2020_01_21-25_transaction_2020_01_21-25.csv\n",
            "transaction_2020_01_26-30_transaction_2020_01_26-30.csv\n",
            "transaction_2020_02_01-04_transaction_2020_02_01-04.csv\n",
            "transaction_2020_02_05-09_transaction_2020_02_05-09.csv\n",
            "transaction_2020_02_10-14_transaction_2020_02_10-14.csv\n",
            "transaction_2020_02_15-19_transaction_2020_02_15-19.csv\n",
            "transaction_2020_02_20-24_transaction_2020_02_20-24.csv\n",
            "transaction_2020_02_25-29_transaction_2020_02_25-29.csv\n",
            "transaction_2020_03_01-05_transaction_2020_03_01-05.csv\n",
            "transaction_2020_03_06-10_transaction_2020_03_06-10.csv\n",
            "transaction_2020_03_11-13_transaction_2020_03_11-13.csv\n",
            "transaction_2020_03_14-16_transaction_2020_03_14-16.csv\n",
            "transaction_2020_03_17-19_transaction_2020_03_17-19.csv\n",
            "transaction_2020_03_20-22_transaction_2020_03_20-22.csv\n",
            "transaction_2020_03_23-25_transaction_2020_03_23-25.csv\n",
            "transaction_2020_03_26-28_transaction_2020_03_26-28.csv\n",
            "transaction_2020_03_29-31_transaction_2020_03_29-31.csv\n",
            "transaction_2020_04_01-04_transaction_2020_04_01-04.csv\n",
            "transaction_2020_04_05-08_transaction_2020_04_05-08.csv\n",
            "transaction_2020_04_09-13_transaction_2020_04_09-13.csv\n",
            "transaction_2020_04_14-17_transaction_2020_04_14-17.csv\n",
            "transaction_2020_04_18-21_transaction_2020_04_18-21.csv\n",
            "transaction_2020_04_22-25_transaction_2020_04_22-25.csv\n",
            "transaction_2020_04_26-30_transaction_2020_04_26-30.csv\n",
            "transaction_2020_05_01-04_transaction_2020_05_01-04.csv\n",
            "transaction_2020_05_05-08_transaction_2020_05_05-08.csv\n",
            "transaction_2020_05_09-12_transaction_2020_05_09-12.csv\n",
            "transaction_2020_05_13-16_transaction_2020_05_13-16.csv\n",
            "transaction_2020_05_17-20_transaction_2020_05_17-20.csv\n",
            "transaction_2020_05_21-24_transaction_2020_05_21-24.csv\n",
            "transaction_2020_05_25-28_transaction_2020_05_25-28.csv\n",
            "transaction_2020_05_29-31_transaction_2020_05_29-31.csv\n",
            "transaction_2020_06_01-05_transaction_2020_06_01-05.csv\n",
            "transaction_2020_06_06-10_transaction_2020_06_06-10.csv\n",
            "transaction_2020_06_11-15_transaction_2020_06_11-15.csv\n",
            "transaction_2020_06_16-19_transaction_2020_06_16-19.csv\n",
            "transaction_2020_06_20-23_transaction_2020_06_20-23.csv\n",
            "transaction_2020_06_24-27_transaction_2020_06_24-27.csv\n",
            "transaction_2020_06_28-30_transaction_2020_06_28-30.csv\n",
            "transaction_2020_07_01-04_transaction_2020_07_01-04.csv\n",
            "transaction_2020_07_05-09_transaction_2020_07_05-09.csv\n"
          ],
          "name": "stdout"
        }
      ]
    },
    {
      "cell_type": "code",
      "metadata": {
        "id": "45MWCY0hIrAJ"
      },
      "source": [
        "from pyspark.sql import SparkSession\n",
        "spark = SparkSession.builder.appName(\"csv_parquet\").getOrCreate()"
      ],
      "execution_count": null,
      "outputs": []
    },
    {
      "cell_type": "code",
      "metadata": {
        "id": "EzxHO1NpI_gY",
        "colab": {
          "base_uri": "https://localhost:8080/"
        },
        "outputId": "066fc3d0-cffa-4a95-dd2b-a47e83f4c6e5"
      },
      "source": [
        "import time\n",
        "start = time.time()\n",
        "\n",
        "for i in Jan_July:\n",
        "  df = spark.read.option(\"delimiter\", \"|\").csv(\"/content/drive/My Drive/Decadata/Jan_July/{}\".format(i), header = True)\n",
        "  new_columns = [\"REG_NUM\", \"TXN\", \"DATE_KEY\", \"TXN_TIME\", \"STORE\", \"REWARDS\", \"TXN_LINE\", \"SCN_ID\", \"ITEM_CODE\", \"ITEM_UNIT_REGULAR_PRICE\", \"ITEM_UNIT_SALE_PRICE\", \"QTY\", \"ITEM_WEIGHT\", \"NUMBER_OF_UNITS_SCANNED_FOR_A_WEIGHTED_ITEM\", \"ITEM_DEAL_QUANTITY\", \"ITEM_SALE_QUANTITY\", \"ITEM_NET_SALES\", \"ITEM_GROSS_SALES\", \"ITEM_PACK_SIZE\", \"ITEM_COST\"]\n",
        "  df = df.toDF(*new_columns)\n",
        "  df.write.parquet(\"/content/drive/My Drive/Decadata/Jan_July_Parquet/{}.parquet\".format(i), mode='append')\n",
        "\n",
        "end = time.time()\n",
        "print (\"Total time is\" , end-start)\n"
      ],
      "execution_count": null,
      "outputs": [
        {
          "output_type": "stream",
          "text": [
            "Total time is 9039.157768249512\n"
          ],
          "name": "stdout"
        }
      ]
    },
    {
      "cell_type": "code",
      "metadata": {
        "id": "0yq-N0yLJroL"
      },
      "source": [
        "# import pandas as pd\n",
        "# pd.read_parquet('/content/drive/My Drive/Decadata/Jan_July_Parquet/*.parquet', engine='pyarrow')\n",
        "\n",
        "List_parquet = !ls \"/content/drive/My Drive/Decadata/Jan_July_Parquet\""
      ],
      "execution_count": null,
      "outputs": []
    },
    {
      "cell_type": "code",
      "metadata": {
        "colab": {
          "base_uri": "https://localhost:8080/"
        },
        "id": "k232SIqTPdQL",
        "outputId": "23f705ed-2c4f-4c93-ce4c-cae6c950e03d"
      },
      "source": [
        "List_parquet"
      ],
      "execution_count": null,
      "outputs": [
        {
          "output_type": "execute_result",
          "data": {
            "text/plain": [
              "['transaction_2020_01_01-05_transaction_2020_01_01-05.parquet',\n",
              " 'transaction_2020_01_06-10_transaction_2020_01_06-10.parquet',\n",
              " 'transaction_2020_01_11-15_transaction_2020_01_11-15.parquet',\n",
              " 'transaction_2020_01_16-20_transaction_2020_01_16-20.parquet',\n",
              " 'transaction_2020_01_21-25_transaction_2020_01_21-25.parquet',\n",
              " 'transaction_2020_01_26-30_transaction_2020_01_26-30.parquet',\n",
              " 'transaction_2020_02_01-04_transaction_2020_02_01-04.parquet',\n",
              " 'transaction_2020_02_05-09_transaction_2020_02_05-09.parquet',\n",
              " 'transaction_2020_02_10-14_transaction_2020_02_10-14.parquet',\n",
              " 'transaction_2020_02_15-19_transaction_2020_02_15-19.parquet',\n",
              " 'transaction_2020_02_20-24_transaction_2020_02_20-24.parquet',\n",
              " 'transaction_2020_02_25-29_transaction_2020_02_25-29.parquet',\n",
              " 'transaction_2020_03_01-05_transaction_2020_03_01-05.parquet',\n",
              " 'transaction_2020_03_06-10_transaction_2020_03_06-10.parquet',\n",
              " 'transaction_2020_03_11-13_transaction_2020_03_11-13.parquet',\n",
              " 'transaction_2020_03_14-16_transaction_2020_03_14-16.parquet',\n",
              " 'transaction_2020_03_17-19_transaction_2020_03_17-19.parquet',\n",
              " 'transaction_2020_03_20-22_transaction_2020_03_20-22.parquet',\n",
              " 'transaction_2020_03_23-25_transaction_2020_03_23-25.parquet',\n",
              " 'transaction_2020_03_26-28_transaction_2020_03_26-28.parquet',\n",
              " 'transaction_2020_03_29-31_transaction_2020_03_29-31.parquet',\n",
              " 'transaction_2020_04_01-04_transaction_2020_04_01-04.parquet',\n",
              " 'transaction_2020_04_05-08_transaction_2020_04_05-08.parquet',\n",
              " 'transaction_2020_04_09-13_transaction_2020_04_09-13.parquet',\n",
              " 'transaction_2020_04_14-17_transaction_2020_04_14-17.parquet',\n",
              " 'transaction_2020_04_18-21_transaction_2020_04_18-21.parquet',\n",
              " 'transaction_2020_04_22-25_transaction_2020_04_22-25.parquet',\n",
              " 'transaction_2020_04_26-30_transaction_2020_04_26-30.parquet',\n",
              " 'transaction_2020_05_01-04_transaction_2020_05_01-04.parquet',\n",
              " 'transaction_2020_05_05-08_transaction_2020_05_05-08.parquet',\n",
              " 'transaction_2020_05_09-12_transaction_2020_05_09-12.parquet',\n",
              " 'transaction_2020_05_13-16_transaction_2020_05_13-16.parquet',\n",
              " 'transaction_2020_05_17-20_transaction_2020_05_17-20.parquet',\n",
              " 'transaction_2020_05_21-24_transaction_2020_05_21-24.parquet',\n",
              " 'transaction_2020_05_25-28_transaction_2020_05_25-28.parquet',\n",
              " 'transaction_2020_05_29-31_transaction_2020_05_29-31.parquet',\n",
              " 'transaction_2020_06_01-05_transaction_2020_06_01-05.parquet',\n",
              " 'transaction_2020_06_06-10_transaction_2020_06_06-10.parquet',\n",
              " 'transaction_2020_06_11-15_transaction_2020_06_11-15.parquet',\n",
              " 'transaction_2020_06_16-19_transaction_2020_06_16-19.parquet',\n",
              " 'transaction_2020_06_20-23_transaction_2020_06_20-23.parquet',\n",
              " 'transaction_2020_06_24-27_transaction_2020_06_24-27.parquet',\n",
              " 'transaction_2020_06_28-30_transaction_2020_06_28-30.parquet',\n",
              " 'transaction_2020_07_01-04_transaction_2020_07_01-04.parquet',\n",
              " 'transaction_2020_07_05-09_transaction_2020_07_05-09.parquet']"
            ]
          },
          "metadata": {
            "tags": []
          },
          "execution_count": 20
        }
      ]
    },
    {
      "cell_type": "code",
      "metadata": {
        "id": "L3JD90_gPyDl"
      },
      "source": [
        "from pyspark import SparkContext\n",
        "from pyspark.sql import SQLContext\n",
        "from pyspark.sql.types import *\n",
        "sqlContext = SQLContext(spark)"
      ],
      "execution_count": null,
      "outputs": []
    },
    {
      "cell_type": "code",
      "metadata": {
        "id": "OI4YkF7uQJ-v"
      },
      "source": [
        "df = sqlContext.read.parquet(\"/content/drive/My Drive/Decadata/Jan_July_Parquet/transaction_2020_*.parquet\")"
      ],
      "execution_count": null,
      "outputs": []
    },
    {
      "cell_type": "code",
      "metadata": {
        "colab": {
          "base_uri": "https://localhost:8080/"
        },
        "id": "tpc9GEQ_RSmo",
        "outputId": "1ef8ca5e-c485-4c83-f2bf-30553774022e"
      },
      "source": [
        "df"
      ],
      "execution_count": null,
      "outputs": [
        {
          "output_type": "execute_result",
          "data": {
            "text/plain": [
              "DataFrame[REG_NUM: string, TXN: string, DATE_KEY: string, TXN_TIME: string, STORE: string, REWARDS: string, TXN_LINE: string, SCN_ID: string, ITEM_CODE: string, ITEM_UNIT_REGULAR_PRICE: string, ITEM_UNIT_SALE_PRICE: string, QTY: string, ITEM_WEIGHT: string, NUMBER_OF_UNITS_SCANNED_FOR_A_WEIGHTED_ITEM: string, ITEM_DEAL_QUANTITY: string, ITEM_SALE_QUANTITY: string, ITEM_NET_SALES: string, ITEM_GROSS_SALES: string, ITEM_PACK_SIZE: string, ITEM_COST: string]"
            ]
          },
          "metadata": {
            "tags": []
          },
          "execution_count": 13
        }
      ]
    },
    {
      "cell_type": "code",
      "metadata": {
        "id": "wnjVxf5HRXj7"
      },
      "source": [
        "row_number = df.count()\n"
      ],
      "execution_count": null,
      "outputs": []
    },
    {
      "cell_type": "code",
      "metadata": {
        "colab": {
          "base_uri": "https://localhost:8080/"
        },
        "id": "EDnqGOKPSXaO",
        "outputId": "ed685ca8-752b-463b-a411-4a67f27ad1de"
      },
      "source": [
        "row_number"
      ],
      "execution_count": null,
      "outputs": [
        {
          "output_type": "execute_result",
          "data": {
            "text/plain": [
              "1054121444"
            ]
          },
          "metadata": {
            "tags": []
          },
          "execution_count": 26
        }
      ]
    },
    {
      "cell_type": "code",
      "metadata": {
        "id": "WTawOe93SnZw",
        "colab": {
          "base_uri": "https://localhost:8080/"
        },
        "outputId": "374b38ba-f055-4dd7-92c4-eae51e103e91"
      },
      "source": [
        "from google.colab import auth\n",
        "auth.authenticate_user()\n",
        "project_id = 'bigqueryfec'\n",
        "!gcloud config set project {project_id}\n",
        "!gsutil ls"
      ],
      "execution_count": null,
      "outputs": [
        {
          "output_type": "stream",
          "text": [
            "Updated property [core/project].\n",
            "gs://transactionsbucket/\n"
          ],
          "name": "stdout"
        }
      ]
    },
    {
      "cell_type": "code",
      "metadata": {
        "id": "W0rm8miM7Mpe"
      },
      "source": [
        "bucket_name = \"transactionsbucket\"\n",
        "\n",
        "!gsutil -m cp -r /content/drive/My\\ Drive/Decadata/Jan_July_Parquet/* gs://transactionsbucket/\n"
      ],
      "execution_count": null,
      "outputs": []
    },
    {
      "cell_type": "code",
      "metadata": {
        "id": "UTLw0Z2n9fzv"
      },
      "source": [
        "from google.cloud import bigquery\n",
        "client = bigquery.Client(project='bigqueryfec')\n",
        "\n",
        "# TODO(developer): Set table_id to the ID of the table to create.\n",
        "table_id = \"Transactions.txn_parquet\"\n",
        "\n",
        "job_config = bigquery.LoadJobConfig(source_format=bigquery.SourceFormat.PARQUET,)\n",
        "uri = \"gs://transactionsbucket/*.parquet\"\n"
      ],
      "execution_count": null,
      "outputs": []
    },
    {
      "cell_type": "code",
      "metadata": {
        "colab": {
          "base_uri": "https://localhost:8080/"
        },
        "id": "IhCdOXIZAFi2",
        "outputId": "e90db0dd-a2f5-4d83-cbfe-ac83541d9ccc"
      },
      "source": [
        "load_job = client.load_table_from_uri(\n",
        "    uri, table_id, job_config=job_config\n",
        ")  # Make an API request.\n",
        "\n",
        "load_job.result()  # Waits for the job to complete.\n",
        "\n",
        "destination_table = client.get_table(table_id)\n",
        "print(\"Loaded {} rows.\".format(destination_table.num_rows))"
      ],
      "execution_count": null,
      "outputs": [
        {
          "output_type": "stream",
          "text": [
            "Loaded 1054121444 rows.\n"
          ],
          "name": "stdout"
        }
      ]
    }
  ]
}